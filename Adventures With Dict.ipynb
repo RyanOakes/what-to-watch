{
 "cells": [
  {
   "cell_type": "code",
   "execution_count": 3,
   "metadata": {
    "collapsed": true
   },
   "outputs": [],
   "source": [
    "dict_stuff = {'nationality': 'merican'}"
   ]
  },
  {
   "cell_type": "code",
   "execution_count": 4,
   "metadata": {
    "collapsed": false
   },
   "outputs": [
    {
     "data": {
      "text/plain": [
       "{'nationality': 'merican'}"
      ]
     },
     "execution_count": 4,
     "metadata": {},
     "output_type": "execute_result"
    }
   ],
   "source": [
    "dict_stuff"
   ]
  },
  {
   "cell_type": "code",
   "execution_count": 7,
   "metadata": {
    "collapsed": false
   },
   "outputs": [],
   "source": [
    "dict_stuff = {'nationality': 'american', 'political_affiliation': 'Obama-esque'}"
   ]
  },
  {
   "cell_type": "code",
   "execution_count": 8,
   "metadata": {
    "collapsed": false
   },
   "outputs": [
    {
     "data": {
      "text/plain": [
       "{'nationality': 'american', 'political_affiliation': 'Obama-esque'}"
      ]
     },
     "execution_count": 8,
     "metadata": {},
     "output_type": "execute_result"
    }
   ],
   "source": [
    "dict_stuff"
   ]
  },
  {
   "cell_type": "code",
   "execution_count": 9,
   "metadata": {
    "collapsed": false
   },
   "outputs": [
    {
     "data": {
      "text/plain": [
       "'american'"
      ]
     },
     "execution_count": 9,
     "metadata": {},
     "output_type": "execute_result"
    }
   ],
   "source": [
    "dict_stuff['nationality']"
   ]
  },
  {
   "cell_type": "code",
   "execution_count": 26,
   "metadata": {
    "collapsed": false
   },
   "outputs": [
    {
     "data": {
      "text/plain": [
       "'Obama-esque'"
      ]
     },
     "execution_count": 26,
     "metadata": {},
     "output_type": "execute_result"
    }
   ],
   "source": [
    "dict_stuff['political_affiliation']"
   ]
  },
  {
   "cell_type": "code",
   "execution_count": 31,
   "metadata": {
    "collapsed": false
   },
   "outputs": [],
   "source": [
    "practice_dict = {}\n",
    "practice_dict['stupid_key'] = 'stupid_value'\n"
   ]
  },
  {
   "cell_type": "code",
   "execution_count": 32,
   "metadata": {
    "collapsed": false
   },
   "outputs": [
    {
     "data": {
      "text/plain": [
       "{'stupid_key': 'stupid_value'}"
      ]
     },
     "execution_count": 32,
     "metadata": {},
     "output_type": "execute_result"
    }
   ],
   "source": [
    "practice_dict"
   ]
  },
  {
   "cell_type": "raw",
   "metadata": {},
   "source": [
    "take dict, turn into list, use dict.value()\n",
    "#list comp\n",
    "movie_list = movies.value()\n",
    "\n",
    "#look for title\n",
    "for title in movie.values():\n",
    "    if \"The\" in title:\n",
    "        print(title)"
   ]
  },
  {
   "cell_type": "code",
   "execution_count": 34,
   "metadata": {
    "collapsed": false
   },
   "outputs": [
    {
     "ename": "SyntaxError",
     "evalue": "invalid syntax (<ipython-input-34-7c2a741d8612>, line 2)",
     "output_type": "error",
     "traceback": [
      "\u001b[0;36m  File \u001b[0;32m\"<ipython-input-34-7c2a741d8612>\"\u001b[0;36m, line \u001b[0;32m2\u001b[0m\n\u001b[0;31m    def __init__(self, id, title)\u001b[0m\n\u001b[0m                                 ^\u001b[0m\n\u001b[0;31mSyntaxError\u001b[0m\u001b[0;31m:\u001b[0m invalid syntax\n"
     ]
    }
   ],
   "source": [
    "class Movie():\n",
    "    def __init__(self, id, title)\n",
    "        self.id = id\n",
    "        self.title = title\n",
    "        \n",
    "movies['1001'].title\n",
    "\n",
    "class Rating:\n",
    "    def __init__(self, movie_id, score):\n",
    "        self.movie_id = movie_id\n",
    "        self.score = score\n",
    "        \n",
    "Rating('1001', 10)\n",
    "\n",
    "Rating('1001', 10).movie_id\n",
    "1001\n",
    "Rating('1001', 10).score\n",
    "10\n",
    "\n",
    "\n",
    "for i range(10):\n",
    "    ratings_list.append(Rating('100', 10))\n",
    "    \n",
    "ratings_list[0].movie_id\n",
    "\n",
    "ratings_list[29].movie_id\n",
    "\n",
    "Dict of movies + list of ratings\n",
    "\n",
    "Time to get all ratings by movie_id!\n",
    "\n",
    "def get_all_ratings_by_movie_id(ratings, movie_id):\n",
    "    all_ratings = []\n",
    "    for rating in ratings:\n",
    "        if rating.movie_id == movie_id:\n",
    "            all_ratings.append(rating)\n",
    "    return all_ratings\n",
    "\n",
    "OR YOU CAN DO THIS ALL IN ONE LINE, \n",
    "\n",
    "    return [rating for rating in ratings if rating.movie_id == movie_id]\n",
    "\n",
    "get_all_ratings_by_movie_id(ratings_list, '123')\n",
    "\n",
    "set([rating.movie.id for rating in ratings_list])\n",
    "    \n",
    "\n",
    "def get_average_rating_by_movie_id(ratings_list, movie_id):\n",
    "    ratings_per_movie = get_average_ratings_by_movie_id(ratings_list, movie_id)\n",
    "    ratings_scores = []\n",
    "    for rating in ratings_per_movie:\n",
    "        ratings_scores.append(rating.score)\n",
    "        \n",
    "    sum_of_scores = sum(ratings_scores)\n",
    "    length_of_scores = len(ratings_scores)\n",
    "    average_of_score = sum_of_scores / length_of_scores\n",
    "    return average_of_scores\n",
    "\n",
    "#Comp version\n",
    "\n",
    "[rating.score for rating in ratings_per_movie]\n",
    "\n",
    "get_average_Rating_by_movie_id(ratings_list, '100')\n",
    "10\n"
   ]
  },
  {
   "cell_type": "code",
   "execution_count": null,
   "metadata": {
    "collapsed": true
   },
   "outputs": [],
   "source": []
  },
  {
   "cell_type": "code",
   "execution_count": null,
   "metadata": {
    "collapsed": true
   },
   "outputs": [],
   "source": []
  }
 ],
 "metadata": {
  "kernelspec": {
   "display_name": "Python 3",
   "language": "python",
   "name": "python3"
  },
  "language_info": {
   "codemirror_mode": {
    "name": "ipython",
    "version": 3
   },
   "file_extension": ".py",
   "mimetype": "text/x-python",
   "name": "python",
   "nbconvert_exporter": "python",
   "pygments_lexer": "ipython3",
   "version": "3.5.1"
  }
 },
 "nbformat": 4,
 "nbformat_minor": 0
}
